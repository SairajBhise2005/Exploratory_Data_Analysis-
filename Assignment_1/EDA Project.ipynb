{
 "cells": [
  {
   "cell_type": "code",
   "execution_count": 1,
   "id": "da60260e",
   "metadata": {
    "scrolled": true
   },
   "outputs": [
    {
     "name": "stdout",
     "output_type": "stream",
     "text": [
      "\n",
      "Usage:   \n",
      "  C:\\Users\\priya\\Downloads\\Anaconda\\python.exe -m pip <command> [options]\n",
      "\n",
      "Commands:\n",
      "  install                     Install packages.\n",
      "  download                    Download packages.\n",
      "  uninstall                   Uninstall packages.\n",
      "  freeze                      Output installed packages in requirements format.\n",
      "  inspect                     Inspect the python environment.\n",
      "  list                        List installed packages.\n",
      "  show                        Show information about installed packages.\n",
      "  check                       Verify installed packages have compatible dependencies.\n",
      "  config                      Manage local and global configuration.\n",
      "  search                      Search PyPI for packages.\n",
      "  cache                       Inspect and manage pip's wheel cache.\n",
      "  index                       Inspect information available from package indexes.\n",
      "  wheel                       Build wheels from your requirements.\n",
      "  hash                        Compute hashes of package archives.\n",
      "  completion                  A helper command used for command completion.\n",
      "  debug                       Show information useful for debugging.\n",
      "  help                        Show help for commands.\n",
      "\n",
      "General Options:\n",
      "  -h, --help                  Show help.\n",
      "  --debug                     Let unhandled exceptions propagate outside the\n",
      "                              main subroutine, instead of logging them to\n",
      "                              stderr.\n",
      "  --isolated                  Run pip in an isolated mode, ignoring\n",
      "                              environment variables and user configuration.\n",
      "  --require-virtualenv        Allow pip to only run in a virtual environment;\n",
      "                              exit with an error otherwise.\n",
      "  --python <python>           Run pip with the specified Python interpreter.\n",
      "  -v, --verbose               Give more output. Option is additive, and can be\n",
      "                              used up to 3 times.\n",
      "  -V, --version               Show version and exit.\n",
      "  -q, --quiet                 Give less output. Option is additive, and can be\n",
      "                              used up to 3 times (corresponding to WARNING,\n",
      "                              ERROR, and CRITICAL logging levels).\n",
      "  --log <path>                Path to a verbose appending log.\n",
      "  --no-input                  Disable prompting for input.\n",
      "  --keyring-provider <keyring_provider>\n",
      "                              Enable the credential lookup via the keyring\n",
      "                              library if user input is allowed. Specify which\n",
      "                              mechanism to use [disabled, import, subprocess].\n",
      "                              (default: disabled)\n",
      "  --proxy <proxy>             Specify a proxy in the form\n",
      "                              scheme://[user:passwd@]proxy.server:port.\n",
      "  --retries <retries>         Maximum number of retries each connection should\n",
      "                              attempt (default 5 times).\n",
      "  --timeout <sec>             Set the socket timeout (default 15 seconds).\n",
      "  --exists-action <action>    Default action when a path already exists:\n",
      "                              (s)witch, (i)gnore, (w)ipe, (b)ackup, (a)bort.\n",
      "  --trusted-host <hostname>   Mark this host or host:port pair as trusted,\n",
      "                              even though it does not have valid or any HTTPS.\n",
      "  --cert <path>               Path to PEM-encoded CA certificate bundle. If\n",
      "                              provided, overrides the default. See 'SSL\n",
      "                              Certificate Verification' in pip documentation\n",
      "                              for more information.\n",
      "  --client-cert <path>        Path to SSL client certificate, a single file\n",
      "                              containing the private key and the certificate\n",
      "                              in PEM format.\n",
      "  --cache-dir <dir>           Store the cache data in <dir>.\n",
      "  --no-cache-dir              Disable the cache.\n",
      "  --disable-pip-version-check\n",
      "                              Don't periodically check PyPI to determine\n",
      "                              whether a new version of pip is available for\n",
      "                              download. Implied with --no-index.\n",
      "  --no-color                  Suppress colored output.\n",
      "  --no-python-version-warning\n",
      "                              Silence deprecation warnings for upcoming\n",
      "                              unsupported Pythons.\n",
      "  --use-feature <feature>     Enable new functionality, that may be backward\n",
      "                              incompatible.\n",
      "  --use-deprecated <feature>  Enable deprecated functionality, that will be\n",
      "                              removed in the future.\n",
      "Note: you may need to restart the kernel to use updated packages.\n"
     ]
    }
   ],
   "source": [
    "pip"
   ]
  },
  {
   "cell_type": "code",
   "execution_count": 2,
   "id": "a87e66ed",
   "metadata": {},
   "outputs": [
    {
     "name": "stdout",
     "output_type": "stream",
     "text": [
      "Requirement already satisfied: pandas in c:\\users\\priya\\downloads\\anaconda\\lib\\site-packages (1.5.3)\n",
      "Requirement already satisfied: python-dateutil>=2.8.1 in c:\\users\\priya\\downloads\\anaconda\\lib\\site-packages (from pandas) (2.8.2)\n",
      "Requirement already satisfied: pytz>=2020.1 in c:\\users\\priya\\downloads\\anaconda\\lib\\site-packages (from pandas) (2022.7)\n",
      "Requirement already satisfied: numpy>=1.21.0 in c:\\users\\priya\\downloads\\anaconda\\lib\\site-packages (from pandas) (1.24.3)\n",
      "Requirement already satisfied: six>=1.5 in c:\\users\\priya\\downloads\\anaconda\\lib\\site-packages (from python-dateutil>=2.8.1->pandas) (1.16.0)\n",
      "Requirement already satisfied: matplot in c:\\users\\priya\\downloads\\anaconda\\lib\\site-packages (0.1.9)\n",
      "Requirement already satisfied: pyloco>=0.0.134 in c:\\users\\priya\\downloads\\anaconda\\lib\\site-packages (from matplot) (0.0.139)\n",
      "Requirement already satisfied: matplotlib>=3.1.1 in c:\\users\\priya\\downloads\\anaconda\\lib\\site-packages (from matplot) (3.7.1)\n",
      "Requirement already satisfied: contourpy>=1.0.1 in c:\\users\\priya\\downloads\\anaconda\\lib\\site-packages (from matplotlib>=3.1.1->matplot) (1.0.5)\n",
      "Requirement already satisfied: cycler>=0.10 in c:\\users\\priya\\downloads\\anaconda\\lib\\site-packages (from matplotlib>=3.1.1->matplot) (0.11.0)\n",
      "Requirement already satisfied: fonttools>=4.22.0 in c:\\users\\priya\\downloads\\anaconda\\lib\\site-packages (from matplotlib>=3.1.1->matplot) (4.25.0)\n",
      "Requirement already satisfied: kiwisolver>=1.0.1 in c:\\users\\priya\\downloads\\anaconda\\lib\\site-packages (from matplotlib>=3.1.1->matplot) (1.4.4)\n",
      "Requirement already satisfied: numpy>=1.20 in c:\\users\\priya\\downloads\\anaconda\\lib\\site-packages (from matplotlib>=3.1.1->matplot) (1.24.3)\n",
      "Requirement already satisfied: packaging>=20.0 in c:\\users\\priya\\downloads\\anaconda\\lib\\site-packages (from matplotlib>=3.1.1->matplot) (24.1)\n",
      "Requirement already satisfied: pillow>=6.2.0 in c:\\users\\priya\\downloads\\anaconda\\lib\\site-packages (from matplotlib>=3.1.1->matplot) (9.4.0)\n",
      "Requirement already satisfied: pyparsing>=2.3.1 in c:\\users\\priya\\downloads\\anaconda\\lib\\site-packages (from matplotlib>=3.1.1->matplot) (3.0.9)\n",
      "Requirement already satisfied: python-dateutil>=2.7 in c:\\users\\priya\\downloads\\anaconda\\lib\\site-packages (from matplotlib>=3.1.1->matplot) (2.8.2)\n",
      "Requirement already satisfied: ushlex in c:\\users\\priya\\downloads\\anaconda\\lib\\site-packages (from pyloco>=0.0.134->matplot) (0.99.1)\n",
      "Requirement already satisfied: websocket-client in c:\\users\\priya\\downloads\\anaconda\\lib\\site-packages (from pyloco>=0.0.134->matplot) (0.58.0)\n",
      "Requirement already satisfied: twine in c:\\users\\priya\\downloads\\anaconda\\lib\\site-packages (from pyloco>=0.0.134->matplot) (5.1.1)\n",
      "Requirement already satisfied: typing in c:\\users\\priya\\downloads\\anaconda\\lib\\site-packages (from pyloco>=0.0.134->matplot) (3.7.4.3)\n",
      "Requirement already satisfied: SimpleWebSocketServer in c:\\users\\priya\\downloads\\anaconda\\lib\\site-packages (from pyloco>=0.0.134->matplot) (0.1.2)\n",
      "Requirement already satisfied: six>=1.5 in c:\\users\\priya\\downloads\\anaconda\\lib\\site-packages (from python-dateutil>=2.7->matplotlib>=3.1.1->matplot) (1.16.0)\n",
      "Requirement already satisfied: pkginfo>=1.8.1 in c:\\users\\priya\\downloads\\anaconda\\lib\\site-packages (from twine->pyloco>=0.0.134->matplot) (1.9.6)\n",
      "Requirement already satisfied: readme-renderer>=35.0 in c:\\users\\priya\\downloads\\anaconda\\lib\\site-packages (from twine->pyloco>=0.0.134->matplot) (44.0)\n",
      "Requirement already satisfied: requests>=2.20 in c:\\users\\priya\\downloads\\anaconda\\lib\\site-packages (from twine->pyloco>=0.0.134->matplot) (2.29.0)\n",
      "Requirement already satisfied: requests-toolbelt!=0.9.0,>=0.8.0 in c:\\users\\priya\\downloads\\anaconda\\lib\\site-packages (from twine->pyloco>=0.0.134->matplot) (0.9.1)\n",
      "Requirement already satisfied: urllib3>=1.26.0 in c:\\users\\priya\\downloads\\anaconda\\lib\\site-packages (from twine->pyloco>=0.0.134->matplot) (1.26.16)\n",
      "Requirement already satisfied: importlib-metadata>=3.6 in c:\\users\\priya\\downloads\\anaconda\\lib\\site-packages (from twine->pyloco>=0.0.134->matplot) (6.0.0)\n",
      "Requirement already satisfied: keyring>=15.1 in c:\\users\\priya\\downloads\\anaconda\\lib\\site-packages (from twine->pyloco>=0.0.134->matplot) (23.13.1)\n",
      "Requirement already satisfied: rfc3986>=1.4.0 in c:\\users\\priya\\downloads\\anaconda\\lib\\site-packages (from twine->pyloco>=0.0.134->matplot) (2.0.0)\n",
      "Requirement already satisfied: rich>=12.0.0 in c:\\users\\priya\\downloads\\anaconda\\lib\\site-packages (from twine->pyloco>=0.0.134->matplot) (13.7.1)\n",
      "Requirement already satisfied: zipp>=0.5 in c:\\users\\priya\\downloads\\anaconda\\lib\\site-packages (from importlib-metadata>=3.6->twine->pyloco>=0.0.134->matplot) (3.11.0)\n",
      "Requirement already satisfied: jaraco.classes in c:\\users\\priya\\downloads\\anaconda\\lib\\site-packages (from keyring>=15.1->twine->pyloco>=0.0.134->matplot) (3.2.1)\n",
      "Requirement already satisfied: pywin32-ctypes>=0.2.0 in c:\\users\\priya\\downloads\\anaconda\\lib\\site-packages (from keyring>=15.1->twine->pyloco>=0.0.134->matplot) (0.2.0)\n",
      "Requirement already satisfied: nh3>=0.2.14 in c:\\users\\priya\\downloads\\anaconda\\lib\\site-packages (from readme-renderer>=35.0->twine->pyloco>=0.0.134->matplot) (0.2.18)\n",
      "Requirement already satisfied: docutils>=0.21.2 in c:\\users\\priya\\downloads\\anaconda\\lib\\site-packages (from readme-renderer>=35.0->twine->pyloco>=0.0.134->matplot) (0.21.2)\n",
      "Requirement already satisfied: Pygments>=2.5.1 in c:\\users\\priya\\downloads\\anaconda\\lib\\site-packages (from readme-renderer>=35.0->twine->pyloco>=0.0.134->matplot) (2.15.1)\n",
      "Requirement already satisfied: charset-normalizer<4,>=2 in c:\\users\\priya\\downloads\\anaconda\\lib\\site-packages (from requests>=2.20->twine->pyloco>=0.0.134->matplot) (2.0.4)\n",
      "Requirement already satisfied: idna<4,>=2.5 in c:\\users\\priya\\downloads\\anaconda\\lib\\site-packages (from requests>=2.20->twine->pyloco>=0.0.134->matplot) (3.4)\n",
      "Requirement already satisfied: certifi>=2017.4.17 in c:\\users\\priya\\downloads\\anaconda\\lib\\site-packages (from requests>=2.20->twine->pyloco>=0.0.134->matplot) (2023.5.7)\n",
      "Requirement already satisfied: markdown-it-py>=2.2.0 in c:\\users\\priya\\downloads\\anaconda\\lib\\site-packages (from rich>=12.0.0->twine->pyloco>=0.0.134->matplot) (2.2.0)\n",
      "Requirement already satisfied: mdurl~=0.1 in c:\\users\\priya\\downloads\\anaconda\\lib\\site-packages (from markdown-it-py>=2.2.0->rich>=12.0.0->twine->pyloco>=0.0.134->matplot) (0.1.0)\n",
      "Requirement already satisfied: more-itertools in c:\\users\\priya\\downloads\\anaconda\\lib\\site-packages (from jaraco.classes->keyring>=15.1->twine->pyloco>=0.0.134->matplot) (8.12.0)\n",
      "Requirement already satisfied: numpy in c:\\users\\priya\\downloads\\anaconda\\lib\\site-packages (1.24.3)\n"
     ]
    }
   ],
   "source": [
    "!pip install pandas\n",
    "!pip install matplot\n",
    "!pip install numpy"
   ]
  },
  {
   "cell_type": "code",
   "execution_count": 3,
   "id": "d771c7a7",
   "metadata": {},
   "outputs": [],
   "source": [
    "#importing libraries\n",
    "import pandas as pd\n",
    "import numpy as np\n",
    "import matplotlib.pyplot as plt\n",
    "import seaborn as sns"
   ]
  },
  {
   "cell_type": "code",
   "execution_count": 5,
   "id": "370bdcc2",
   "metadata": {},
   "outputs": [],
   "source": [
    "df1 = pd.read_csv(\"C:\\\\Users\\\\priya\\\\Downloads\\\\medallists.csv\")\n",
    "medallists=pd.DataFrame(df1)\n",
    "df2 = pd.read_csv(\"C:\\\\Users\\\\priya\\\\Downloads\\\\athletes (1).csv\")\n",
    "athletes=pd.DataFrame(df2)\n",
    "df3 = pd.read_csv(\"C:\\\\Users\\\\priya\\\\Downloads\\\\medals_total.csv\")\n",
    "medals_total = pd.DataFrame(df3)\n",
    "df4 = pd.read_csv(\"C:\\\\Users\\\\priya\\\\Downloads\\\\medals.csv\")\n",
    "medals = pd.DataFrame(df4)\n",
    "df5 = pd.read_csv(\"C:\\\\Users\\\\priya\\\\Downloads\\\\athlete_events.csv\\\\athlete_weights.csv\")\n",
    "athlete_weights = pd.Data"
   ]
  },
  {
   "cell_type": "code",
   "execution_count": null,
   "id": "1ce3de68",
   "metadata": {},
   "outputs": [],
   "source": [
    "merged_df1 = pd.merge(athletes, medallists, on='country', how='outer')\n",
    "\n",
    "# Merge the result with medals_total\n",
    "merged_df2 = pd.merge(merged_df1, medals_total, on='country', how='outer')\n",
    "\n",
    "# Finally, merge with medals\n",
    "final_merged_df = pd.merge(merged_df2, medals, on='country', how='outer')\n",
    "\n",
    "# Save the merged DataFrame to a new CSV file\n",
    "final_merged_df.to_csv(\"C:\\\\Users\\\\priya\\\\Downloads\\\\merged_olympics_data.csv\", index=False)\n",
    "\n",
    "print(\"Datasets merged and saved as 'merged_olympics_data.csv'.\")"
   ]
  },
  {
   "cell_type": "code",
   "execution_count": null,
   "id": "894e4f6c",
   "metadata": {},
   "outputs": [],
   "source": [
    "athletes\n",
    "athletes.shape"
   ]
  },
  {
   "cell_type": "markdown",
   "id": "81c945a1",
   "metadata": {},
   "source": [
    "# #Merging the datasets"
   ]
  },
  {
   "cell_type": "code",
   "execution_count": null,
   "id": "76ab0e8e",
   "metadata": {},
   "outputs": [],
   "source": [
    "merged = pd.merge(medallists,athletes,on='name',how='inner')\n",
    "merged"
   ]
  },
  {
   "cell_type": "markdown",
   "id": "324cdf5b",
   "metadata": {},
   "source": [
    "# Cleaning the data"
   ]
  },
  {
   "cell_type": "code",
   "execution_count": null,
   "id": "72ca5031",
   "metadata": {},
   "outputs": [],
   "source": [
    "merged.fillna(0, inplace=True)\n",
    "merged.drop_duplicates(keep='first', inplace=True)\n",
    "merged\n"
   ]
  },
  {
   "cell_type": "markdown",
   "id": "f2894827",
   "metadata": {},
   "source": [
    "\n",
    "## Data Type Classification"
   ]
  },
  {
   "cell_type": "code",
   "execution_count": null,
   "id": "1f7b07e1",
   "metadata": {},
   "outputs": [],
   "source": [
    "numerical = merged.select_dtypes(include=['int64','float64']).columns\n",
    "print(\"Numerical Columns:\",numerical.tolist())\n",
    "num = numerical.tolist()\n",
    "categorical = merged.select_dtypes(include=['object']).columns\n",
    "print(\"\\nCategorical Columns: \",categorical.tolist())\n",
    "cat = categorical.tolist()"
   ]
  },
  {
   "cell_type": "code",
   "execution_count": null,
   "id": "126604ad",
   "metadata": {},
   "outputs": [],
   "source": [
    "def check_discrete_or_continuous(df, num):\n",
    "    for var in num:\n",
    "        if all(df[var].apply(lambda x: float(x).is_integer())):\n",
    "            print(f\"Column '{var}' is discrete.\")\n",
    "        else:\n",
    "            print(f\"Column '{var}' is continuous.\")\n",
    "check_discrete_or_continuous(merged,num)"
   ]
  },
  {
   "cell_type": "code",
   "execution_count": null,
   "id": "86a1f1e4",
   "metadata": {},
   "outputs": [],
   "source": [
    "def classify_nominal_ordinal(df, categorical):\n",
    "    ordinal_keywords = ['level', 'rank', 'grade', 'stage', 'position', 'order', 'age', 'class', 'medal_type']\n",
    "    nominal = []\n",
    "    ordinal = []\n",
    "    \n",
    "    for col in categorical:\n",
    "        if any(keyword in col.lower() for keyword in ordinal_keywords):\n",
    "            ordinal.append(col)\n",
    "        else:\n",
    "            nominal.append(col)\n",
    "    \n",
    "    return nominal, ordinal  \n",
    "nominal, ordinal = classify_nominal_ordinal(merged, categorical)\n",
    "print(\"Nominal Columns:\", nominal)\n",
    "print(\"\\nOrdinal Columns:\", ordinal)\n"
   ]
  },
  {
   "cell_type": "code",
   "execution_count": null,
   "id": "406e6bcb",
   "metadata": {},
   "outputs": [],
   "source": [
    "import plotly.express as px\n",
    "\n",
    "fig = px.bar(medals_total, x='country_code', y=['Gold Medal', 'Silver Medal', 'Bronze Medal'],\n",
    "             title='Medal Counts by Country')\n",
    "fig.update_layout(barmode='stack')\n",
    "fig.show()"
   ]
  },
  {
   "cell_type": "code",
   "execution_count": null,
   "id": "4b05f269",
   "metadata": {},
   "outputs": [],
   "source": [
    "import plotly.express as px\n",
    "color_palette = {\n",
    "    'Gold Medal': 'gold',\n",
    "    'Silver Medal': 'silver',\n",
    "    'Bronze Medal': 'brown' \n",
    "}\n",
    "\n",
    "fig = px.bar(\n",
    "    medals_total, \n",
    "    x='country_code', \n",
    "    y=['Gold Medal', 'Silver Medal', 'Bronze Medal'],\n",
    "    title='Medal Counts by Country',\n",
    "    color_discrete_map=color_palette)\n",
    "\n",
    "fig.update_layout(barmode='stack')\n",
    "fig.show()"
   ]
  },
  {
   "cell_type": "code",
   "execution_count": null,
   "id": "72dae1c8",
   "metadata": {},
   "outputs": [],
   "source": [
    "palette = {\n",
    "    'Gold Medal': 'gold',\n",
    "    'Silver Medal': 'silver',\n",
    "    'Bronze Medal': 'brown',\n",
    "    'Male': 'blue',  \n",
    "    'Female': 'pink'         \n",
    "}\n",
    "\n",
    "sns.set(style=\"whitegrid\")\n",
    "ax = sns.histplot(merged, x='medal_type', hue='gender_x', multiple=\"stack\", palette=palette)\n",
    "plt.show()"
   ]
  },
  {
   "cell_type": "code",
   "execution_count": null,
   "id": "14b1c5be",
   "metadata": {},
   "outputs": [],
   "source": [
    "from datetime import datetime\n",
    "merged['birth_date'] = pd.to_datetime(merged['birth_date_x'])\n",
    "merged['age'] = merged['birth_date'].apply(lambda birth_date: (datetime.now() - birth_date).days // 365)\n",
    "merged['age'].describe()"
   ]
  },
  {
   "cell_type": "markdown",
   "id": "3d19ce5e",
   "metadata": {},
   "source": [
    "# Age of Athelets "
   ]
  },
  {
   "cell_type": "code",
   "execution_count": null,
   "id": "9a7c1332",
   "metadata": {},
   "outputs": [],
   "source": [
    "youngest_athlete = merged.loc[merged['age'].idxmin()]\n",
    "oldest_athlete = merged.loc[merged['age'].idxmax()]\n",
    "print(f\" Youngest athlete of this olympics is: {youngest_athlete['name']} and age of athlete is {youngest_athlete['age']}\")\n",
    "print(f\" oldest athlete of this olympics is: {oldest_athlete['name']} and age of athlete is {oldest_athlete['age']}\")"
   ]
  },
  {
   "cell_type": "code",
   "execution_count": null,
   "id": "a18c352d",
   "metadata": {},
   "outputs": [],
   "source": [
    "bins = [0, 18, 25, 35, 45, 55, 65, 75, 85, 100]\n",
    "labels = ['0-18', '19-25', '26-35', '36-45', '46-55', '56-65', '66-75', '76-85', '86-100']\n",
    "\n",
    "plt.figure(figsize=(10, 6))\n",
    "sns.histplot(data=merged, x='age', bins=bins, discrete=True, kde=True)\n",
    "plt.show()\n"
   ]
  },
  {
   "cell_type": "code",
   "execution_count": null,
   "id": "5d932a21",
   "metadata": {},
   "outputs": [],
   "source": []
  },
  {
   "cell_type": "markdown",
   "id": "ea562527",
   "metadata": {},
   "source": [
    "# #Top 10 countries with highest number of participants\n"
   ]
  },
  {
   "cell_type": "code",
   "execution_count": null,
   "id": "7e7f822b",
   "metadata": {},
   "outputs": [],
   "source": [
    "top =merged['country_x'].value_counts().head(10).index\n",
    "top_10 = merged[merged['country_x'].isin(top)]\n",
    "plt.figure(figsize=(25,15))\n",
    "sns.countplot(data = top_10,x='country_x',hue='gender_x')"
   ]
  },
  {
   "cell_type": "markdown",
   "id": "6dd274da",
   "metadata": {},
   "source": [
    "## Lets find a correlation between highest number of medals in countries and highest number of participants"
   ]
  },
  {
   "cell_type": "code",
   "execution_count": null,
   "id": "1fb99089",
   "metadata": {},
   "outputs": [],
   "source": [
    "import pandas as pd\n",
    "import matplotlib.pyplot as plt\n",
    "import seaborn as sns\n",
    "\n",
    "# Group by country to get the number of participants per country\n",
    "participants_by_country = df2.groupby('country')['name'].count().reset_index()\n",
    "participants_by_country.columns = ['country', 'num_participants']\n",
    "\n",
    "# Group by country to get the number of medals per country\n",
    "medals_by_country = medals.groupby('country')['medal_type'].count().reset_index()\n",
    "medals_by_country.columns = ['country', 'num_medals']\n",
    "\n",
    "# Merge the two datasets on 'country'\n",
    "merged_df = pd.merge(participants_by_country, medals_by_country, on='country', how='inner')\n",
    "\n",
    "# Calculate correlation between participants and medals\n",
    "correlation = merged_df['num_participants'].corr(merged_df['num_medals'])\n",
    "print(f\"Correlation between number of participants and medals: {correlation}\")\n",
    "\n",
    "# Plot the relationship between participants and medals\n",
    "plt.figure(figsize=(10, 6))\n",
    "sns.scatterplot(data=merged_df, x='num_participants', y='num_medals')\n",
    "plt.title('Relationship between Number of Participants and Number of Medals by Country')\n",
    "plt.xlabel('Number of Participants')\n",
    "plt.ylabel('Number of Medals')\n",
    "plt.grid(True)\n",
    "plt.show()\n",
    "#Positive Correlation shows that hypothesis is correct"
   ]
  },
  {
   "cell_type": "code",
   "execution_count": null,
   "id": "c1512e5d",
   "metadata": {},
   "outputs": [],
   "source": [
    "import pandas as pd\n",
    "import matplotlib.pyplot as plt\n",
    "import seaborn as sns\n",
    "top_countries = merged['country_x'].value_counts().head(10).index\n",
    "\n",
    "# Identify the top 10 disciplines based on participant count\n",
    "top_disciplines = merged['disciplines'].value_counts().head(10).index\n",
    "\n",
    "# Filter data to include only the top 10 countries and top 10 disciplines\n",
    "filtered_data = merged[(merged['country_x'].isin(top_countries)) & (merged['disciplines'].isin(top_disciplines))]\n",
    "\n",
    "# Create a pivot table that shows the count of participants per country and discipline\n",
    "heatmap_data = filtered_data.pivot_table(index='disciplines', columns='country_x', values='name', aggfunc='count', fill_value=0)\n",
    "\n",
    "# Plot the heatmap\n",
    "plt.figure(figsize=(14, 8))\n",
    "sns.heatmap(heatmap_data, cmap='YlGnBu', annot=True, fmt='d')\n",
    "plt.title('Number of Participants by Top 10 Countries and Disciplines')\n",
    "plt.xlabel('Country')\n",
    "plt.ylabel('Disciplines')\n",
    "plt.show()\n"
   ]
  },
  {
   "cell_type": "code",
   "execution_count": null,
   "id": "c9eb4159",
   "metadata": {},
   "outputs": [],
   "source": []
  },
  {
   "cell_type": "code",
   "execution_count": null,
   "id": "a2cc3db8",
   "metadata": {},
   "outputs": [],
   "source": []
  },
  {
   "cell_type": "code",
   "execution_count": null,
   "id": "334b234c",
   "metadata": {},
   "outputs": [],
   "source": []
  },
  {
   "cell_type": "code",
   "execution_count": null,
   "id": "63087d19",
   "metadata": {},
   "outputs": [],
   "source": []
  },
  {
   "cell_type": "code",
   "execution_count": null,
   "id": "a4d4f260",
   "metadata": {},
   "outputs": [],
   "source": []
  }
 ],
 "metadata": {
  "kernelspec": {
   "display_name": "Python 3 (ipykernel)",
   "language": "python",
   "name": "python3"
  },
  "language_info": {
   "codemirror_mode": {
    "name": "ipython",
    "version": 3
   },
   "file_extension": ".py",
   "mimetype": "text/x-python",
   "name": "python",
   "nbconvert_exporter": "python",
   "pygments_lexer": "ipython3",
   "version": "3.11.3"
  }
 },
 "nbformat": 4,
 "nbformat_minor": 5
}
