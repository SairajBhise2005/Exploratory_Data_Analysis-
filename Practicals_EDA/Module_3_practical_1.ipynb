{
 "cells": [
  {
   "cell_type": "code",
   "execution_count": 1,
   "id": "7ca85565-76f7-4ed2-bfaa-0e8e29208201",
   "metadata": {},
   "outputs": [
    {
     "name": "stdout",
     "output_type": "stream",
     "text": [
      "Initial Dataset Overview\n",
      "<class 'pandas.core.frame.DataFrame'>\n",
      "RangeIndex: 891 entries, 0 to 890\n",
      "Data columns (total 15 columns):\n",
      " #   Column       Non-Null Count  Dtype   \n",
      "---  ------       --------------  -----   \n",
      " 0   survived     891 non-null    int64   \n",
      " 1   pclass       891 non-null    int64   \n",
      " 2   sex          891 non-null    object  \n",
      " 3   age          714 non-null    float64 \n",
      " 4   sibsp        891 non-null    int64   \n",
      " 5   parch        891 non-null    int64   \n",
      " 6   fare         891 non-null    float64 \n",
      " 7   embarked     889 non-null    object  \n",
      " 8   class        891 non-null    category\n",
      " 9   who          891 non-null    object  \n",
      " 10  adult_male   891 non-null    bool    \n",
      " 11  deck         203 non-null    category\n",
      " 12  embark_town  889 non-null    object  \n",
      " 13  alive        891 non-null    object  \n",
      " 14  alone        891 non-null    bool    \n",
      "dtypes: bool(2), category(2), float64(2), int64(4), object(5)\n",
      "memory usage: 80.7+ KB\n",
      "None\n",
      "\n",
      " Missing values summary\n",
      "survived         0\n",
      "pclass           0\n",
      "sex              0\n",
      "age            177\n",
      "sibsp            0\n",
      "parch            0\n",
      "fare             0\n",
      "embarked         2\n",
      "class            0\n",
      "who              0\n",
      "adult_male       0\n",
      "deck           688\n",
      "embark_town      2\n",
      "alive            0\n",
      "alone            0\n",
      "dtype: int64\n"
     ]
    }
   ],
   "source": [
    "import pandas as pd\n",
    "import seaborn as sns\n",
    "import numpy as np\n",
    "from sklearn.impute import SimpleImputer\n",
    "from sklearn.preprocessing import LabelEncoder, StandardScaler\n",
    "from scipy import stats\n",
    "\n",
    "df=sns.load_dataset('titanic')\n",
    "\n",
    "print(\"Initial Dataset Overview\")\n",
    "print(df.info())\n",
    "print(\"\\n Missing values summary\")\n",
    "print(df.isnull().sum())"
   ]
  },
  {
   "cell_type": "code",
   "execution_count": 2,
   "id": "431ee8b2-d801-4df7-a373-79d90e3c6a15",
   "metadata": {},
   "outputs": [
    {
     "name": "stdout",
     "output_type": "stream",
     "text": [
      "Index(['survived', 'pclass', 'age', 'sibsp', 'parch', 'fare'], dtype='object')\n",
      "Index(['sex', 'embarked', 'who', 'embark_town', 'alive'], dtype='object')\n"
     ]
    }
   ],
   "source": [
    "num_cols=df.select_dtypes(include=['float64','int64']).columns\n",
    "cat_cols=df.select_dtypes(include=['object']).columns\n",
    "print(num_cols)\n",
    "print(cat_cols)"
   ]
  },
  {
   "cell_type": "code",
   "execution_count": 3,
   "id": "68b133a2-3253-4a2a-b001-501f929ed5b7",
   "metadata": {},
   "outputs": [
    {
     "name": "stdout",
     "output_type": "stream",
     "text": [
      "\n",
      "After handling missing values:\n",
      "survived         0\n",
      "pclass           0\n",
      "sex              0\n",
      "age              0\n",
      "sibsp            0\n",
      "parch            0\n",
      "fare             0\n",
      "embarked         0\n",
      "class            0\n",
      "who              0\n",
      "adult_male       0\n",
      "deck           688\n",
      "embark_town      0\n",
      "alive            0\n",
      "alone            0\n",
      "dtype: int64\n"
     ]
    }
   ],
   "source": [
    "imputer_num=SimpleImputer(strategy='median')\n",
    "df[num_cols]= imputer_num.fit_transform(df[num_cols])\n",
    "\n",
    "imputer_num=SimpleImputer(strategy='most_frequent')\n",
    "df[cat_cols]= imputer_num.fit_transform(df[cat_cols])\n",
    "\n",
    "print(\"\\nAfter handling missing values:\")\n",
    "\n",
    "print(df.isnull().sum())"
   ]
  },
  {
   "cell_type": "code",
   "execution_count": 4,
   "id": "bff9dd62-9e62-481c-a227-504a89b47816",
   "metadata": {},
   "outputs": [
    {
     "name": "stdout",
     "output_type": "stream",
     "text": [
      "\n",
      "Number of duplicate rows:110\n",
      "\n",
      "after removing duplicates:781\n"
     ]
    }
   ],
   "source": [
    "num_dup=df.duplicated().sum()\n",
    "print(f\"\\nNumber of duplicate rows:{num_dup}\")\n",
    "df.drop_duplicates(inplace=True)\n",
    "print(f\"\\nafter removing duplicates:{df.shape[0]}\")"
   ]
  },
  {
   "cell_type": "code",
   "execution_count": 5,
   "id": "25b845f6-8ee5-412c-98c3-a1a70cb8cdd1",
   "metadata": {},
   "outputs": [
    {
     "name": "stdout",
     "output_type": "stream",
     "text": [
      "\n",
      "after removing, number of rows:718\n"
     ]
    }
   ],
   "source": [
    "z_score=np.abs(stats.zscore(df[num_cols]))\n",
    "threshold=3\n",
    "\n",
    "df_outliers_removed=df[(z_score<threshold).all(axis=1)]\n",
    "print(f\"\\nafter removing, number of rows:{df_outliers_removed.shape[0]}\")"
   ]
  },
  {
   "cell_type": "code",
   "execution_count": 6,
   "id": "44b447d2-46f1-4e23-94fd-66748447d057",
   "metadata": {},
   "outputs": [
    {
     "name": "stdout",
     "output_type": "stream",
     "text": [
      "\n",
      " Unique values in sex before handling inconsistencies:\n",
      "['male' 'female']\n",
      "\n",
      " Unique values in embarked before handling inconsistencies:\n",
      "['S' 'C' 'Q']\n",
      "\n",
      " Unique values in who before handling inconsistencies:\n",
      "['man' 'woman' 'child']\n",
      "\n",
      " Unique values in embark_town before handling inconsistencies:\n",
      "['Southampton' 'Cherbourg' 'Queenstown']\n",
      "\n",
      " Unique values in alive before handling inconsistencies:\n",
      "['no' 'yes']\n"
     ]
    }
   ],
   "source": [
    "for col in cat_cols:\n",
    "    print(f\"\\n Unique values in {col} before handling inconsistencies:\")\n",
    "    print(df_outliers_removed[col].unique())"
   ]
  },
  {
   "cell_type": "code",
   "execution_count": 7,
   "id": "e3585711-20ce-48b5-bec0-86f3673b04f8",
   "metadata": {},
   "outputs": [
    {
     "name": "stdout",
     "output_type": "stream",
     "text": [
      "\n",
      "Unique values in 'sex' column after fixing inconsistencies:\n"
     ]
    },
    {
     "name": "stderr",
     "output_type": "stream",
     "text": [
      "C:\\Users\\A\\AppData\\Local\\Temp\\ipykernel_18152\\2709239948.py:1: SettingWithCopyWarning: \n",
      "A value is trying to be set on a copy of a slice from a DataFrame.\n",
      "Try using .loc[row_indexer,col_indexer] = value instead\n",
      "\n",
      "See the caveats in the documentation: https://pandas.pydata.org/pandas-docs/stable/user_guide/indexing.html#returning-a-view-versus-a-copy\n",
      "  df_outliers_removed['sex']=df_outliers_removed['sex'].replace({'malee':'male', 'femle': 'female'})\n"
     ]
    },
    {
     "ename": "AttributeError",
     "evalue": "'Series' object has no attribute 'unqiue'",
     "output_type": "error",
     "traceback": [
      "\u001b[1;31m---------------------------------------------------------------------------\u001b[0m",
      "\u001b[1;31mAttributeError\u001b[0m                            Traceback (most recent call last)",
      "\u001b[1;32m~\\AppData\\Local\\Temp\\ipykernel_18152\\2709239948.py\u001b[0m in \u001b[0;36m?\u001b[1;34m()\u001b[0m\n\u001b[0;32m      1\u001b[0m \u001b[0mdf_outliers_removed\u001b[0m\u001b[1;33m[\u001b[0m\u001b[1;34m'sex'\u001b[0m\u001b[1;33m]\u001b[0m\u001b[1;33m=\u001b[0m\u001b[0mdf_outliers_removed\u001b[0m\u001b[1;33m[\u001b[0m\u001b[1;34m'sex'\u001b[0m\u001b[1;33m]\u001b[0m\u001b[1;33m.\u001b[0m\u001b[0mreplace\u001b[0m\u001b[1;33m(\u001b[0m\u001b[1;33m{\u001b[0m\u001b[1;34m'malee'\u001b[0m\u001b[1;33m:\u001b[0m\u001b[1;34m'male'\u001b[0m\u001b[1;33m,\u001b[0m \u001b[1;34m'femle'\u001b[0m\u001b[1;33m:\u001b[0m \u001b[1;34m'female'\u001b[0m\u001b[1;33m}\u001b[0m\u001b[1;33m)\u001b[0m\u001b[1;33m\u001b[0m\u001b[1;33m\u001b[0m\u001b[0m\n\u001b[0;32m      2\u001b[0m \u001b[1;33m\u001b[0m\u001b[0m\n\u001b[0;32m      3\u001b[0m \u001b[0mprint\u001b[0m\u001b[1;33m(\u001b[0m\u001b[1;34m\"\\nUnique values in 'sex' column after fixing inconsistencies:\"\u001b[0m\u001b[1;33m)\u001b[0m\u001b[1;33m\u001b[0m\u001b[1;33m\u001b[0m\u001b[0m\n\u001b[1;32m----> 4\u001b[1;33m \u001b[0mprint\u001b[0m\u001b[1;33m(\u001b[0m\u001b[0mdf_outliers_removed\u001b[0m\u001b[1;33m[\u001b[0m\u001b[1;34m'sex'\u001b[0m\u001b[1;33m]\u001b[0m\u001b[1;33m.\u001b[0m\u001b[0munqiue\u001b[0m\u001b[1;33m(\u001b[0m\u001b[1;33m)\u001b[0m\u001b[1;33m)\u001b[0m\u001b[1;33m\u001b[0m\u001b[1;33m\u001b[0m\u001b[0m\n\u001b[0m",
      "\u001b[1;32m~\\anaconda3\\Lib\\site-packages\\pandas\\core\\generic.py\u001b[0m in \u001b[0;36m?\u001b[1;34m(self, name)\u001b[0m\n\u001b[0;32m   6295\u001b[0m             \u001b[1;32mand\u001b[0m \u001b[0mname\u001b[0m \u001b[1;32mnot\u001b[0m \u001b[1;32min\u001b[0m \u001b[0mself\u001b[0m\u001b[1;33m.\u001b[0m\u001b[0m_accessors\u001b[0m\u001b[1;33m\u001b[0m\u001b[1;33m\u001b[0m\u001b[0m\n\u001b[0;32m   6296\u001b[0m             \u001b[1;32mand\u001b[0m \u001b[0mself\u001b[0m\u001b[1;33m.\u001b[0m\u001b[0m_info_axis\u001b[0m\u001b[1;33m.\u001b[0m\u001b[0m_can_hold_identifiers_and_holds_name\u001b[0m\u001b[1;33m(\u001b[0m\u001b[0mname\u001b[0m\u001b[1;33m)\u001b[0m\u001b[1;33m\u001b[0m\u001b[1;33m\u001b[0m\u001b[0m\n\u001b[0;32m   6297\u001b[0m         \u001b[1;33m)\u001b[0m\u001b[1;33m:\u001b[0m\u001b[1;33m\u001b[0m\u001b[1;33m\u001b[0m\u001b[0m\n\u001b[0;32m   6298\u001b[0m             \u001b[1;32mreturn\u001b[0m \u001b[0mself\u001b[0m\u001b[1;33m[\u001b[0m\u001b[0mname\u001b[0m\u001b[1;33m]\u001b[0m\u001b[1;33m\u001b[0m\u001b[1;33m\u001b[0m\u001b[0m\n\u001b[1;32m-> 6299\u001b[1;33m         \u001b[1;32mreturn\u001b[0m \u001b[0mobject\u001b[0m\u001b[1;33m.\u001b[0m\u001b[0m__getattribute__\u001b[0m\u001b[1;33m(\u001b[0m\u001b[0mself\u001b[0m\u001b[1;33m,\u001b[0m \u001b[0mname\u001b[0m\u001b[1;33m)\u001b[0m\u001b[1;33m\u001b[0m\u001b[1;33m\u001b[0m\u001b[0m\n\u001b[0m",
      "\u001b[1;31mAttributeError\u001b[0m: 'Series' object has no attribute 'unqiue'"
     ]
    }
   ],
   "source": [
    "df_outliers_removed['sex']=df_outliers_removed['sex'].replace({'malee':'male', 'femle': 'female'})\n",
    "\n",
    "print(\"\\nUnique values in 'sex' column after fixing inconsistencies:\")\n",
    "print(df_outliers_removed['sex'].unqiue())"
   ]
  },
  {
   "cell_type": "code",
   "execution_count": 25,
   "id": "a0a8a7ef-1912-4ef0-a171-c82324d65e74",
   "metadata": {},
   "outputs": [
    {
     "name": "stdout",
     "output_type": "stream",
     "text": [
      "    Age   Salary\n",
      "0  25.0  50000.0\n",
      "1  27.0      NaN\n",
      "2   NaN  58000.0\n",
      "3  24.0  52000.0\n",
      "4  30.0  60000.0\n"
     ]
    }
   ],
   "source": [
    "import pandas as pd\n",
    "from sklearn.impute import SimpleImputer\n",
    "\n",
    "data={'Age': [25,27, None, 24, 30 ], 'Salary':[50000,None, 58000,52000,60000]}\n",
    "df=pd.DataFrame(data)\n",
    "\n",
    "print(df)"
   ]
  },
  {
   "cell_type": "code",
   "execution_count": 26,
   "id": "0d685199-a4a4-42bd-867f-0405abbb2668",
   "metadata": {},
   "outputs": [
    {
     "name": "stdout",
     "output_type": "stream",
     "text": [
      "    Age   Salary\n",
      "0  25.0  50000.0\n",
      "1  27.0  55000.0\n",
      "2  26.5  58000.0\n",
      "3  24.0  52000.0\n",
      "4  30.0  60000.0\n"
     ]
    }
   ],
   "source": [
    "imputer=SimpleImputer(strategy='mean')\n",
    "df['Age']=imputer.fit_transform(df[['Age']])\n",
    "df['Salary']=imputer.fit_transform(df[['Salary']])\n",
    "df.round()\n",
    "print(df)"
   ]
  },
  {
   "cell_type": "code",
   "execution_count": 27,
   "id": "67db0bab-ff17-4117-b5f0-d73587e77356",
   "metadata": {},
   "outputs": [
    {
     "name": "stdout",
     "output_type": "stream",
     "text": [
      "    Age  Salary\n",
      "0  25.0     0.0\n",
      "1  27.0     0.5\n",
      "2  26.5     0.8\n",
      "3  24.0     0.2\n",
      "4  30.0     1.0\n"
     ]
    }
   ],
   "source": [
    "from sklearn.preprocessing import MinMaxScaler\n",
    "scaler=MinMaxScaler()\n",
    "df['Salary']=scaler.fit_transform(df[['Salary']])\n",
    "print(df)"
   ]
  },
  {
   "cell_type": "code",
   "execution_count": 28,
   "id": "0de8ea4e-814a-416c-98ae-66bb757e8844",
   "metadata": {},
   "outputs": [
    {
     "name": "stdout",
     "output_type": "stream",
     "text": [
      "        Age  Salary\n",
      "0 -0.731925     0.0\n",
      "1  0.243975     0.5\n",
      "2  0.000000     0.8\n",
      "3 -1.219875     0.2\n",
      "4  1.707825     1.0\n"
     ]
    }
   ],
   "source": [
    "from sklearn.preprocessing import StandardScaler \n",
    "scaler=StandardScaler()\n",
    "df['Age']= scaler.fit_transform(df[['Age']])\n",
    "print(df)"
   ]
  },
  {
   "cell_type": "code",
   "execution_count": 29,
   "id": "94acbd9d-62ad-4933-b55a-3c17206eb239",
   "metadata": {},
   "outputs": [
    {
     "name": "stdout",
     "output_type": "stream",
     "text": [
      "        Age  Salary\n",
      "0 -0.731925     0.0\n",
      "1  0.243975     0.5\n",
      "2  0.000000     0.8\n",
      "4  1.707825     1.0\n"
     ]
    }
   ],
   "source": [
    "import numpy as np\n",
    "Q1=df['Age'].quantile(0.25)\n",
    "Q3=df['Age'].quantile(0.75)\n",
    "IQR=Q3-Q1\n",
    "\n",
    "outliers=df[(df['Age']<(Q1-1.5*IQR))|(df['Age']>(Q3-1.5*IQR))]\n",
    "print(outliers)"
   ]
  },
  {
   "cell_type": "code",
   "execution_count": 30,
   "id": "90166bec-c4ed-4fe2-b1c4-43483763ba3f",
   "metadata": {},
   "outputs": [
    {
     "name": "stdout",
     "output_type": "stream",
     "text": [
      "   Age   Age_Binned\n",
      "0   22        Young\n",
      "1   25        Young\n",
      "2   27        Young\n",
      "3   30        Young\n",
      "4   35  Middle-Aged\n",
      "5  100          Old\n"
     ]
    }
   ],
   "source": [
    "df=pd.DataFrame({'Age':[22,25,27,30,35,100]})\n",
    "\n",
    "df['Age_Binned']=pd.cut(df['Age'], bins=[20,30,40,110], labels=['Young','Middle-Aged','Old'])\n",
    "\n",
    "print(df)"
   ]
  },
  {
   "cell_type": "code",
   "execution_count": 31,
   "id": "bea7b404-2d3a-49fc-8ea2-e2d7b3c2650e",
   "metadata": {},
   "outputs": [
    {
     "name": "stdout",
     "output_type": "stream",
     "text": [
      "      Loan_ID  Gender Married Dependents     Education Self_Employed  \\\n",
      "0    LP001002    Male      No          0      Graduate            No   \n",
      "1    LP001003    Male     Yes          1      Graduate            No   \n",
      "2    LP001005    Male     Yes          0      Graduate           Yes   \n",
      "3    LP001006    Male     Yes          0  Not Graduate            No   \n",
      "4    LP001008    Male      No          0      Graduate            No   \n",
      "..        ...     ...     ...        ...           ...           ...   \n",
      "609  LP002978  Female      No          0      Graduate            No   \n",
      "610  LP002979    Male     Yes         3+      Graduate            No   \n",
      "611  LP002983    Male     Yes          1      Graduate            No   \n",
      "612  LP002984    Male     Yes          2      Graduate            No   \n",
      "613  LP002990  Female      No          0      Graduate           Yes   \n",
      "\n",
      "     ApplicantIncome  CoapplicantIncome  LoanAmount  Loan_Amount_Term  \\\n",
      "0               5849                0.0         NaN             360.0   \n",
      "1               4583             1508.0       128.0             360.0   \n",
      "2               3000                0.0        66.0             360.0   \n",
      "3               2583             2358.0       120.0             360.0   \n",
      "4               6000                0.0       141.0             360.0   \n",
      "..               ...                ...         ...               ...   \n",
      "609             2900                0.0        71.0             360.0   \n",
      "610             4106                0.0        40.0             180.0   \n",
      "611             8072              240.0       253.0             360.0   \n",
      "612             7583                0.0       187.0             360.0   \n",
      "613             4583                0.0       133.0             360.0   \n",
      "\n",
      "     Credit_History Property_Area Loan_Status  \n",
      "0               1.0         Urban           Y  \n",
      "1               1.0         Rural           N  \n",
      "2               1.0         Urban           Y  \n",
      "3               1.0         Urban           Y  \n",
      "4               1.0         Urban           Y  \n",
      "..              ...           ...         ...  \n",
      "609             1.0         Rural           Y  \n",
      "610             1.0         Rural           Y  \n",
      "611             1.0         Urban           Y  \n",
      "612             1.0         Urban           Y  \n",
      "613             0.0     Semiurban           N  \n",
      "\n",
      "[614 rows x 13 columns]\n",
      "Loan_ID               0\n",
      "Gender               13\n",
      "Married               3\n",
      "Dependents           15\n",
      "Education             0\n",
      "Self_Employed        32\n",
      "ApplicantIncome       0\n",
      "CoapplicantIncome     0\n",
      "LoanAmount           22\n",
      "Loan_Amount_Term     14\n",
      "Credit_History       50\n",
      "Property_Area         0\n",
      "Loan_Status           0\n",
      "dtype: int64\n",
      "149\n"
     ]
    }
   ],
   "source": [
    "import pandas as pd\n",
    "\n",
    "tdf=pd.read_csv(\"C:\\\\Users\\\\A\\\\Downloads\\\\EDA_Datasets\\\\train.csv\")\n",
    "tdf.head()\n",
    "print(tdf)\n",
    "print(tdf.isnull().sum())\n",
    "print(tdf.isnull().sum().sum())"
   ]
  },
  {
   "cell_type": "code",
   "execution_count": 32,
   "id": "938e33e4-dbad-41a1-9016-7940fe59f196",
   "metadata": {},
   "outputs": [
    {
     "name": "stdout",
     "output_type": "stream",
     "text": [
      "Loan_ID              0\n",
      "Gender               0\n",
      "Married              0\n",
      "Dependents           0\n",
      "Education            0\n",
      "Self_Employed        0\n",
      "ApplicantIncome      0\n",
      "CoapplicantIncome    0\n",
      "LoanAmount           0\n",
      "Loan_Amount_Term     0\n",
      "Credit_History       0\n",
      "Property_Area        0\n",
      "Loan_Status          0\n",
      "dtype: int64\n"
     ]
    }
   ],
   "source": [
    "df=tdf.dropna(axis=0)\n",
    "\n",
    "df.isnull().sum()\n",
    "print(df.isnull().sum())"
   ]
  },
  {
   "cell_type": "code",
   "execution_count": 33,
   "id": "23d5818a-fdf7-417a-8266-7552171a9dc5",
   "metadata": {},
   "outputs": [
    {
     "name": "stdout",
     "output_type": "stream",
     "text": [
      "Loan_ID               0\n",
      "Gender               13\n",
      "Married               3\n",
      "Education             0\n",
      "Self_Employed        32\n",
      "ApplicantIncome       0\n",
      "CoapplicantIncome     0\n",
      "LoanAmount           22\n",
      "Loan_Amount_Term     14\n",
      "Credit_History       50\n",
      "Property_Area         0\n",
      "Loan_Status           0\n",
      "dtype: int64\n"
     ]
    }
   ],
   "source": [
    "df=tdf.drop(['Dependents'],axis=1)\n",
    "\n",
    "df.isnull().sum()\n",
    "print(df.isnull().sum())"
   ]
  },
  {
   "cell_type": "code",
   "execution_count": 34,
   "id": "83d92a6c-cc65-40cf-8ecb-5f72c1cc00b2",
   "metadata": {},
   "outputs": [
    {
     "name": "stdout",
     "output_type": "stream",
     "text": [
      "Loan_ID               0\n",
      "Gender               13\n",
      "Married               3\n",
      "Dependents           15\n",
      "Education             0\n",
      "Self_Employed        32\n",
      "ApplicantIncome       0\n",
      "CoapplicantIncome     0\n",
      "LoanAmount            0\n",
      "Loan_Amount_Term     14\n",
      "Credit_History        0\n",
      "Property_Area         0\n",
      "Loan_Status           0\n",
      "dtype: int64\n"
     ]
    }
   ],
   "source": [
    "tdf['LoanAmount']=tdf['LoanAmount'].fillna(tdf['LoanAmount'].mean())\n",
    "tdf['Credit_History']=tdf['Credit_History'].fillna(tdf['Credit_History'].mean())\n",
    "\n",
    "print(tdf.isnull().sum())"
   ]
  },
  {
   "cell_type": "code",
   "execution_count": 35,
   "id": "9eed5a3e-4322-4945-8850-79335a7ec8e1",
   "metadata": {},
   "outputs": [
    {
     "data": {
      "text/plain": [
       "Loan_ID               0\n",
       "Gender                0\n",
       "Married               0\n",
       "Dependents           15\n",
       "Education             0\n",
       "Self_Employed         0\n",
       "ApplicantIncome       0\n",
       "CoapplicantIncome     0\n",
       "LoanAmount            0\n",
       "Loan_Amount_Term     14\n",
       "Credit_History        0\n",
       "Property_Area         0\n",
       "Loan_Status           0\n",
       "dtype: int64"
      ]
     },
     "execution_count": 35,
     "metadata": {},
     "output_type": "execute_result"
    }
   ],
   "source": [
    "tdf['Gender']=tdf['Gender'].fillna(tdf['Gender'].mode()[0])\n",
    "tdf['Married']=tdf['Married'].fillna(tdf['Married'].mode()[0])\n",
    "tdf['Self_Employed']=tdf['Self_Employed'].fillna(tdf['Self_Employed'].mode()[0])\n",
    "\n",
    "tdf.isnull().sum()"
   ]
  },
  {
   "cell_type": "code",
   "execution_count": 36,
   "id": "cac8790c-2288-4b07-84d4-b938fffd515f",
   "metadata": {},
   "outputs": [
    {
     "name": "stdout",
     "output_type": "stream",
     "text": [
      "Loan_ID               0\n",
      "Gender                0\n",
      "Married               0\n",
      "Dependents           15\n",
      "Education             0\n",
      "Self_Employed         0\n",
      "ApplicantIncome       0\n",
      "CoapplicantIncome     0\n",
      "LoanAmount            0\n",
      "Loan_Amount_Term      0\n",
      "Credit_History        0\n",
      "Property_Area         0\n",
      "Loan_Status           0\n",
      "dtype: int64\n"
     ]
    }
   ],
   "source": [
    "tdf['Loan_Amount_Term']=tdf['Loan_Amount_Term'].fillna(tdf['Loan_Amount_Term'].median())\n",
    "print(tdf.isnull().sum())"
   ]
  },
  {
   "cell_type": "code",
   "execution_count": 37,
   "id": "6e8f686e-da15-4852-9392-c66e1ced126b",
   "metadata": {},
   "outputs": [
    {
     "name": "stdout",
     "output_type": "stream",
     "text": [
      "      Loan_ID  Gender Married Dependents     Education Self_Employed  \\\n",
      "0    LP001002    Male      No          0      Graduate            No   \n",
      "1    LP001003    Male     Yes          1      Graduate            No   \n",
      "2    LP001005    Male     Yes          0      Graduate           Yes   \n",
      "3    LP001006    Male     Yes          0  Not Graduate            No   \n",
      "4    LP001008    Male      No          0      Graduate            No   \n",
      "..        ...     ...     ...        ...           ...           ...   \n",
      "609  LP002978  Female      No          0      Graduate            No   \n",
      "610  LP002979    Male     Yes         3+      Graduate            No   \n",
      "611  LP002983    Male     Yes          1      Graduate            No   \n",
      "612  LP002984    Male     Yes          2      Graduate            No   \n",
      "613  LP002990  Female      No          0      Graduate           Yes   \n",
      "\n",
      "     ApplicantIncome  CoapplicantIncome  LoanAmount  Loan_Amount_Term  \\\n",
      "0               5849                0.0  146.412162             360.0   \n",
      "1               4583             1508.0  128.000000             360.0   \n",
      "2               3000                0.0   66.000000             360.0   \n",
      "3               2583             2358.0  120.000000             360.0   \n",
      "4               6000                0.0  141.000000             360.0   \n",
      "..               ...                ...         ...               ...   \n",
      "609             2900                0.0   71.000000             360.0   \n",
      "610             4106                0.0   40.000000             180.0   \n",
      "611             8072              240.0  253.000000             360.0   \n",
      "612             7583                0.0  187.000000             360.0   \n",
      "613             4583                0.0  133.000000             360.0   \n",
      "\n",
      "     Credit_History Property_Area Loan_Status  \n",
      "0               1.0         Urban           Y  \n",
      "1               1.0         Rural           N  \n",
      "2               1.0         Urban           Y  \n",
      "3               1.0         Urban           Y  \n",
      "4               1.0         Urban           Y  \n",
      "..              ...           ...         ...  \n",
      "609             1.0         Rural           Y  \n",
      "610             1.0         Rural           Y  \n",
      "611             1.0         Urban           Y  \n",
      "612             1.0         Urban           Y  \n",
      "613             0.0     Semiurban           N  \n",
      "\n",
      "[614 rows x 13 columns]\n",
      "Loan_ID               0\n",
      "Gender                0\n",
      "Married               0\n",
      "Dependents           15\n",
      "Education             0\n",
      "Self_Employed         0\n",
      "ApplicantIncome       0\n",
      "CoapplicantIncome     0\n",
      "LoanAmount            0\n",
      "Loan_Amount_Term      0\n",
      "Credit_History        0\n",
      "Property_Area         0\n",
      "Loan_Status           0\n",
      "dtype: int64\n"
     ]
    }
   ],
   "source": [
    "from sklearn.impute import SimpleImputer, KNNImputer\n",
    "from sklearn.impute import KNNImputer\n",
    "\n",
    "knn_imputer=KNNImputer(n_neighbors=5)\n",
    "\n",
    "tdf[['LoanAmount']]=knn_imputer.fit_transform(tdf[['LoanAmount']])\n",
    "print(tdf)\n",
    "print(tdf.isnull().sum())"
   ]
  },
  {
   "cell_type": "code",
   "execution_count": 38,
   "id": "163869d2-b506-4cbb-93fd-4ff914068263",
   "metadata": {},
   "outputs": [
    {
     "name": "stdout",
     "output_type": "stream",
     "text": [
      "          Value\n",
      "0     42.605507\n",
      "1     59.527468\n",
      "2     37.901134\n",
      "3     54.364949\n",
      "4     52.341355\n",
      "..          ...\n",
      "98    41.380269\n",
      "99    73.281531\n",
      "100  150.000000\n",
      "101  200.000000\n",
      "102  250.000000\n",
      "\n",
      "[103 rows x 1 columns]\n"
     ]
    },
    {
     "data": {
      "image/png": "[encoded data removed]",
      "text/plain": [
       "<Figure size 1200x600 with 1 Axes>"
      ]
     },
     "metadata": {},
     "output_type": "display_data"
    }
   ],
   "source": [
    "import pandas as pd\n",
    "import numpy as np\n",
    "import matplotlib.pyplot as plt\n",
    "import seaborn as sns\n",
    "\n",
    "data=np.random.normal(50,10,100)\n",
    "data=np.append(data,[150,200,250])\n",
    "\n",
    "df=pd.DataFrame(data,columns=['Value'])\n",
    "print(df)\n",
    "\n",
    "\n",
    "plt.figure(figsize=(12,6))\n",
    "sns.boxplot(x=df['Value'])\n",
    "plt.title('BoxPLot of Dataset with outliers')\n",
    "plt.show()"
   ]
  },
  {
   "cell_type": "code",
   "execution_count": 39,
   "id": "cfeba1ac-56db-443a-8dad-0c5eda41a638",
   "metadata": {},
   "outputs": [
    {
     "name": "stdout",
     "output_type": "stream",
     "text": [
      "     Value   Z-score\n",
      "100  150.0  3.376900\n",
      "101  200.0  5.139853\n",
      "102  250.0  6.902806\n"
     ]
    }
   ],
   "source": [
    "from scipy.stats import zscore\n",
    "\n",
    "df['Z-score']= zscore(df['Value'])\n",
    "\n",
    "outliers_z=df[(df['Z-score']>3) | (df['Z-score']<-3)]\n",
    "print(outliers_z)"
   ]
  },
  {
   "cell_type": "code",
   "execution_count": 40,
   "id": "37634022-2d25-4e31-a2aa-8c02dd28c843",
   "metadata": {},
   "outputs": [
    {
     "name": "stdout",
     "output_type": "stream",
     "text": [
      "          Value   Z-score\n",
      "86    16.120029 -1.343581\n",
      "100  150.000000  3.376900\n",
      "101  200.000000  5.139853\n",
      "102  250.000000  6.902806\n"
     ]
    }
   ],
   "source": [
    "Q1=df['Value'].quantile(0.25)\n",
    "Q3=df['Value'].quantile(0.75)\n",
    "IQR=Q3-Q1\n",
    "\n",
    "outliers_iqr=df[(df['Value']<(Q1-1.5*IQR)) | (df['Value']>(Q3+1.5*IQR))]\n",
    "print(outliers_iqr)"
   ]
  },
  {
   "cell_type": "code",
   "execution_count": 41,
   "id": "cb6a858a-027e-46ab-b6d7-66da56d88402",
   "metadata": {},
   "outputs": [
    {
     "data": {
      "image/png": "[encoded data removed]",
      "text/plain": [
       "<Figure size 1200x600 with 1 Axes>"
      ]
     },
     "metadata": {},
     "output_type": "display_data"
    }
   ],
   "source": [
    "df_no_outliers=df[(df['Value']>=(Q1-1.5*IQR)) & (df['Value']<=(Q3+1.5*IQR))]\n",
    "\n",
    "plt.figure(figsize=(12,6))\n",
    "sns.boxplot(x=df_no_outliers['Value'])\n",
    "plt.title('Box Plot After Removing Outliers')\n",
    "plt.show()"
   ]
  },
  {
   "cell_type": "code",
   "execution_count": 42,
   "id": "f4dd1961-b623-40e3-a48f-c21858550f75",
   "metadata": {},
   "outputs": [
    {
     "data": {
      "image/png": "[encoded data removed]",
      "text/plain": [
       "<Figure size 1200x600 with 1 Axes>"
      ]
     },
     "metadata": {},
     "output_type": "display_data"
    }
   ],
   "source": [
    "df['Log Value']=np.log(df['Value'])\n",
    "\n",
    "plt.figure(figsize=(12,6))\n",
    "sns.boxplot(x=df['Log Value'])\n",
    "plt.title('Box Plot After Log Transformation')\n",
    "plt.show()"
   ]
  },
  {
   "cell_type": "code",
   "execution_count": 43,
   "id": "97d6f1de-88a9-4928-a951-3d696733b0f8",
   "metadata": {},
   "outputs": [
    {
     "name": "stdout",
     "output_type": "stream",
     "text": [
      "0      42.605507\n",
      "1      59.527468\n",
      "2      37.901134\n",
      "3      54.364949\n",
      "4      52.341355\n",
      "         ...    \n",
      "98     41.380269\n",
      "99     73.281531\n",
      "100    73.787941\n",
      "101    73.787941\n",
      "102    73.787941\n",
      "Name: Capped Value, Length: 103, dtype: float64\n"
     ]
    },
    {
     "data": {
      "image/png": "[encoded data removed]",
      "text/plain": [
       "<Figure size 1200x600 with 1 Axes>"
      ]
     },
     "metadata": {},
     "output_type": "display_data"
    }
   ],
   "source": [
    "cap_value=df['Value'].quantile(0.95)\n",
    "df['Capped Value']=np.where(df['Value']>cap_value, cap_value, df['Value'])\n",
    "print(df['Capped Value'])\n",
    "\n",
    "plt.figure(figsize=(12,6))\n",
    "sns.boxplot(x=df['Capped Value'])\n",
    "plt.title('Box Plot After Capping Outliers')\n",
    "plt.show()"
   ]
  },
  {
   "cell_type": "code",
   "execution_count": 44,
   "id": "c45b6520-5291-40b0-ae9a-37c33867c1b5",
   "metadata": {},
   "outputs": [
    {
     "name": "stdout",
     "output_type": "stream",
     "text": [
      "[ 1  1  1  1  1  1  1  1  1  1  1  1  1  1 -1  1  1  1  1 -1  1  1  1  1\n",
      " -1  1  1  1  1  1  1  1  1  1  1  1 -1  1  1  1  1  1  1  1  1  1 -1 -1\n",
      " -1  1  1  1  1  1  1  1  1  1 -1  1  1  1  1  1  1  1  1  1  1  1 -1 -1\n",
      " -1 -1  1  1  1  1  1  1  1  1  1  1  1 -1 -1  1  1  1  1 -1  1 -1  1  1\n",
      "  1 -1  1 -1 -1 -1 -1]\n"
     ]
    }
   ],
   "source": [
    "from sklearn.ensemble import IsolationForest\n",
    "import numpy as np\n",
    "\n",
    "iso_forest=IsolationForest(contamination=0.2)\n",
    "iso_forest.fit(df)\n",
    "\n",
    "predictions=iso_forest.predict(df)\n",
    "print(predictions)"
   ]
  },
  {
   "cell_type": "code",
   "execution_count": 45,
   "id": "5746317f-c9da-4f83-988c-da978c82d0db",
   "metadata": {},
   "outputs": [
    {
     "name": "stdout",
     "output_type": "stream",
     "text": [
      "   transaction_amount is_fraud\n",
      "0                 100   Normal\n",
      "1                 150   Normal\n",
      "2                 200   Normal\n",
      "3                 250   Normal\n",
      "4               10000    Fraud\n",
      "5                 120   Normal\n",
      "6                 180   Normal\n",
      "7                 240   Normal\n",
      "8                 110   Normal\n",
      "9                9000    Fraud\n"
     ]
    }
   ],
   "source": [
    "from sklearn.svm import OneClassSVM\n",
    "import numpy as np\n",
    "import pandas as pd\n",
    "\n",
    "data={'transaction_amount':[100,150,200,250,10000,120,180,240,110,9000]}\n",
    "df=pd.DataFrame(data)\n",
    "\n",
    "oc_svm=OneClassSVM(kernel='rbf', gamma=0.0001, nu=0.3)\n",
    "oc_svm.fit(df)\n",
    "\n",
    "df['is_fraud']=oc_svm.predict(df)\n",
    "\n",
    "df['is_fraud']=df['is_fraud'].map({1:'Normal', -1:'Fraud'})\n",
    "\n",
    "print(df)"
   ]
  },
  {
   "cell_type": "code",
   "execution_count": 46,
   "id": "db46c730-7f38-4eee-801a-92f03032e05b",
   "metadata": {},
   "outputs": [
    {
     "name": "stdout",
     "output_type": "stream",
     "text": [
      "   transaction_amount is_fraud\n",
      "0                 100    Fraud\n",
      "1                 150   Normal\n",
      "2                 200   Normal\n",
      "3                 250   Normal\n",
      "4               10000   Normal\n",
      "5                 120    Fraud\n",
      "6                 180   Normal\n",
      "7                 240   Normal\n",
      "8                 110    Fraud\n",
      "9                9000   Normal\n"
     ]
    }
   ],
   "source": [
    "from sklearn.svm import OneClassSVM\n",
    "import numpy as np\n",
    "import pandas as pd\n",
    "\n",
    "data={'transaction_amount':[100,150,200,250,10000,120,180,240,110,9000]}\n",
    "df=pd.DataFrame(data)\n",
    "\n",
    "oc_svm=OneClassSVM(kernel='linear', gamma=0.0001, nu=0.3)\n",
    "oc_svm.fit(df)\n",
    "\n",
    "df['is_fraud']=oc_svm.predict(df)\n",
    "\n",
    "df['is_fraud']=df['is_fraud'].map({1:'Normal', -1:'Fraud'})\n",
    "\n",
    "print(df)"
   ]
  },
  {
   "cell_type": "code",
   "execution_count": 47,
   "id": "6ec5b206-5a1e-44ba-a353-868b9725251b",
   "metadata": {},
   "outputs": [
    {
     "name": "stdout",
     "output_type": "stream",
     "text": [
      "Requirement already satisfied: nltk in c:\\users\\a\\anaconda3\\lib\\site-packages (3.8.1)\n",
      "Requirement already satisfied: click in c:\\users\\a\\anaconda3\\lib\\site-packages (from nltk) (8.1.7)\n",
      "Requirement already satisfied: joblib in c:\\users\\a\\anaconda3\\lib\\site-packages (from nltk) (1.4.2)\n",
      "Requirement already satisfied: regex>=2021.8.3 in c:\\users\\a\\anaconda3\\lib\\site-packages (from nltk) (2023.10.3)\n",
      "Requirement already satisfied: tqdm in c:\\users\\a\\anaconda3\\lib\\site-packages (from nltk) (4.66.4)\n",
      "Requirement already satisfied: colorama in c:\\users\\a\\anaconda3\\lib\\site-packages (from click->nltk) (0.4.6)\n",
      "Note: you may need to restart the kernel to use updated packages.\n"
     ]
    }
   ],
   "source": [
    "pip install nltk"
   ]
  },
  {
   "cell_type": "code",
   "execution_count": 48,
   "id": "c478c4b9-5aea-403d-90cf-fe5cf9ba5978",
   "metadata": {},
   "outputs": [
    {
     "name": "stdout",
     "output_type": "stream",
     "text": [
      "['Natural', 'Language', 'Processing', 'is', 'fascinating']\n"
     ]
    },
    {
     "name": "stderr",
     "output_type": "stream",
     "text": [
      "[nltk_data] Downloading package punkt to\n",
      "[nltk_data]     C:\\Users\\A\\AppData\\Roaming\\nltk_data...\n",
      "[nltk_data]   Package punkt is already up-to-date!\n"
     ]
    }
   ],
   "source": [
    "import nltk\n",
    "\n",
    "nltk.download('punkt')\n",
    "from nltk.tokenize import word_tokenize\n",
    "\n",
    "text=\"Natural Language Processing is fascinating\"\n",
    "tokens= word_tokenize(text)\n",
    "print(tokens)"
   ]
  },
  {
   "cell_type": "code",
   "execution_count": 49,
   "id": "b0888ab9-2652-46d5-adc7-2a22aabf7266",
   "metadata": {},
   "outputs": [
    {
     "name": "stdout",
     "output_type": "stream",
     "text": [
      "natural language processing is fascinating\n"
     ]
    }
   ],
   "source": [
    "text=\"Natural Language Processing is fascinating\"\n",
    "lowercased_text=text.lower()\n",
    "print(lowercased_text)"
   ]
  },
  {
   "cell_type": "code",
   "execution_count": 50,
   "id": "62b478a8-82a9-46e2-ae73-54dfe55b01c7",
   "metadata": {},
   "outputs": [
    {
     "name": "stdout",
     "output_type": "stream",
     "text": [
      "Natural Language Processing is Fascinating\n"
     ]
    }
   ],
   "source": [
    "import string \n",
    "text=\"Natural, Language? Processing! is Fascinating.\"\n",
    "cleaned_text=text.translate(str.maketrans('','', string.punctuation))\n",
    "print(cleaned_text)"
   ]
  },
  {
   "cell_type": "code",
   "execution_count": 51,
   "id": "8c4dbe19-a4e1-4d6a-94b1-1fcc54f40641",
   "metadata": {},
   "outputs": [
    {
     "name": "stdout",
     "output_type": "stream",
     "text": [
      "['Natural', 'Language', 'Processing', 'fascinating']\n"
     ]
    },
    {
     "name": "stderr",
     "output_type": "stream",
     "text": [
      "[nltk_data] Downloading package stopwords to\n",
      "[nltk_data]     C:\\Users\\A\\AppData\\Roaming\\nltk_data...\n",
      "[nltk_data]   Package stopwords is already up-to-date!\n"
     ]
    }
   ],
   "source": [
    "from nltk.corpus import stopwords\n",
    "\n",
    "nltk.download('stopwords')\n",
    "\n",
    "text='Natural Language Processing is fascinating'\n",
    "stop_words=set(stopwords.words('english'))\n",
    "filtered_words=[word for word in word_tokenize(text) if word.lower() not in stop_words]\n",
    "print(filtered_words)"
   ]
  },
  {
   "cell_type": "code",
   "execution_count": 52,
   "id": "4e9ff533-265c-4f3d-99e9-1ff419e8f7cd",
   "metadata": {},
   "outputs": [
    {
     "name": "stdout",
     "output_type": "stream",
     "text": [
      "['fascin', 'fascin', 'fascin']\n"
     ]
    }
   ],
   "source": [
    "from nltk.stem import PorterStemmer\n",
    "ps=PorterStemmer()\n",
    "words=['fascinating','fascinated','fascinates']\n",
    "stemmed_words=[ps.stem(word) for word in words]\n",
    "print(stemmed_words)"
   ]
  },
  {
   "cell_type": "code",
   "execution_count": 53,
   "id": "7489fd3c-9d93-487f-9520-b653a11d980e",
   "metadata": {},
   "outputs": [
    {
     "name": "stderr",
     "output_type": "stream",
     "text": [
      "[nltk_data] Downloading package wordnet to\n",
      "[nltk_data]     C:\\Users\\A\\AppData\\Roaming\\nltk_data...\n",
      "[nltk_data]   Package wordnet is already up-to-date!\n",
      "[nltk_data] Downloading package omw-1.4 to\n",
      "[nltk_data]     C:\\Users\\A\\AppData\\Roaming\\nltk_data...\n",
      "[nltk_data]   Package omw-1.4 is already up-to-date!\n"
     ]
    },
    {
     "name": "stdout",
     "output_type": "stream",
     "text": [
      "['Better', 'run', 'fascinate']\n"
     ]
    }
   ],
   "source": [
    "from nltk.stem import WordNetLemmatizer\n",
    "\n",
    "nltk.download('wordnet')\n",
    "nltk.download('omw-1.4')\n",
    "\n",
    "lemmatizer=WordNetLemmatizer()\n",
    "words=[\"Better\",'running','fascinated']\n",
    "lemmatized_words=[lemmatizer.lemmatize(word, pos='v')for word in words]\n",
    "print(lemmatized_words)"
   ]
  },
  {
   "cell_type": "code",
   "execution_count": 54,
   "id": "f29e13d2-4ee7-4096-b0a8-350ad043289c",
   "metadata": {},
   "outputs": [
    {
     "name": "stdout",
     "output_type": "stream",
     "text": [
      "Requirement already satisfied: transformers in c:\\users\\a\\anaconda3\\lib\\site-packages (4.45.0)\n",
      "Requirement already satisfied: filelock in c:\\users\\a\\anaconda3\\lib\\site-packages (from transformers) (3.13.1)\n",
      "Requirement already satisfied: huggingface-hub<1.0,>=0.23.2 in c:\\users\\a\\anaconda3\\lib\\site-packages (from transformers) (0.25.1)\n",
      "Requirement already satisfied: numpy>=1.17 in c:\\users\\a\\anaconda3\\lib\\site-packages (from transformers) (1.26.4)\n",
      "Requirement already satisfied: packaging>=20.0 in c:\\users\\a\\anaconda3\\lib\\site-packages (from transformers) (23.2)\n",
      "Requirement already satisfied: pyyaml>=5.1 in c:\\users\\a\\anaconda3\\lib\\site-packages (from transformers) (6.0.1)\n",
      "Requirement already satisfied: regex!=2019.12.17 in c:\\users\\a\\anaconda3\\lib\\site-packages (from transformers) (2023.10.3)\n",
      "Requirement already satisfied: requests in c:\\users\\a\\anaconda3\\lib\\site-packages (from transformers) (2.32.2)\n",
      "Requirement already satisfied: tokenizers<0.21,>=0.20 in c:\\users\\a\\anaconda3\\lib\\site-packages (from transformers) (0.20.0)\n",
      "Requirement already satisfied: safetensors>=0.4.1 in c:\\users\\a\\anaconda3\\lib\\site-packages (from transformers) (0.4.5)\n",
      "Requirement already satisfied: tqdm>=4.27 in c:\\users\\a\\anaconda3\\lib\\site-packages (from transformers) (4.66.4)\n",
      "Requirement already satisfied: fsspec>=2023.5.0 in c:\\users\\a\\anaconda3\\lib\\site-packages (from huggingface-hub<1.0,>=0.23.2->transformers) (2024.3.1)\n",
      "Requirement already satisfied: typing-extensions>=3.7.4.3 in c:\\users\\a\\anaconda3\\lib\\site-packages (from huggingface-hub<1.0,>=0.23.2->transformers) (4.11.0)\n",
      "Requirement already satisfied: colorama in c:\\users\\a\\anaconda3\\lib\\site-packages (from tqdm>=4.27->transformers) (0.4.6)\n",
      "Requirement already satisfied: charset-normalizer<4,>=2 in c:\\users\\a\\anaconda3\\lib\\site-packages (from requests->transformers) (2.0.4)\n",
      "Requirement already satisfied: idna<4,>=2.5 in c:\\users\\a\\anaconda3\\lib\\site-packages (from requests->transformers) (3.7)\n",
      "Requirement already satisfied: urllib3<3,>=1.21.1 in c:\\users\\a\\anaconda3\\lib\\site-packages (from requests->transformers) (2.2.2)\n",
      "Requirement already satisfied: certifi>=2017.4.17 in c:\\users\\a\\anaconda3\\lib\\site-packages (from requests->transformers) (2024.7.4)\n",
      "Note: you may need to restart the kernel to use updated packages.\n"
     ]
    }
   ],
   "source": [
    "pip install transformers"
   ]
  },
  {
   "cell_type": "code",
   "execution_count": 55,
   "id": "7c1db313-889d-4105-9d44-b7d370b36925",
   "metadata": {},
   "outputs": [
    {
     "name": "stdout",
     "output_type": "stream",
     "text": [
      "['bert', 'can', 'handle', 'out', '-', 'of', '-', 'vocabulary', 'words', 'like', 'transformers']\n"
     ]
    },
    {
     "name": "stderr",
     "output_type": "stream",
     "text": [
      "C:\\Users\\A\\anaconda3\\Lib\\site-packages\\transformers\\tokenization_utils_base.py:1617: FutureWarning: `clean_up_tokenization_spaces` was not set. It will be set to `True` by default. This behavior will be deprecated in transformers v4.45, and will be then set to `False` by default. For more details check this issue: https://github.com/huggingface/transformers/issues/31884\n",
      "  warnings.warn(\n"
     ]
    }
   ],
   "source": [
    "from transformers import BertTokenizer\n",
    "\n",
    "tokenizer=BertTokenizer.from_pretrained('bert-base-uncased')\n",
    "text=\"Bert can handle Out-of-Vocabulary words like transformers\"\n",
    "tokens=tokenizer.tokenize(text)\n",
    "print(tokens)"
   ]
  },
  {
   "cell_type": "code",
   "execution_count": 56,
   "id": "a1b95684-5378-4457-9fc0-ab6f7ac2ff3c",
   "metadata": {},
   "outputs": [
    {
     "name": "stdout",
     "output_type": "stream",
     "text": [
      "Requirement already satisfied: contractions in c:\\users\\a\\anaconda3\\lib\\site-packages (0.1.73)\n",
      "Requirement already satisfied: textsearch>=0.0.21 in c:\\users\\a\\anaconda3\\lib\\site-packages (from contractions) (0.0.24)\n",
      "Requirement already satisfied: anyascii in c:\\users\\a\\anaconda3\\lib\\site-packages (from textsearch>=0.0.21->contractions) (0.3.2)\n",
      "Requirement already satisfied: pyahocorasick in c:\\users\\a\\anaconda3\\lib\\site-packages (from textsearch>=0.0.21->contractions) (2.1.0)\n",
      "Note: you may need to restart the kernel to use updated packages.\n"
     ]
    }
   ],
   "source": [
    "pip install contractions"
   ]
  },
  {
   "cell_type": "code",
   "execution_count": 57,
   "id": "6dc200a2-1af4-4ab5-9c56-14338aa09dcb",
   "metadata": {},
   "outputs": [
    {
     "name": "stdout",
     "output_type": "stream",
     "text": [
      "I am learning NLP. Do not Stop!\n"
     ]
    }
   ],
   "source": [
    "import contractions\n",
    "text=\"I'm learning NLP. Don't Stop!\"\n",
    "expanded_text=contractions.fix(text)\n",
    "print(expanded_text)"
   ]
  },
  {
   "cell_type": "code",
   "execution_count": 58,
   "id": "31575350-9307-435f-bd27-dfaeea413d09",
   "metadata": {},
   "outputs": [
    {
     "name": "stdout",
     "output_type": "stream",
     "text": [
      "The price is  expensive \n"
     ]
    }
   ],
   "source": [
    "import re \n",
    "text=\"The price is $500 #expensive 😭\"\n",
    "cleaned_text=re.sub(r'[^a-zA-Z\\s]', '', text)\n",
    "print(cleaned_text)"
   ]
  },
  {
   "cell_type": "code",
   "execution_count": 59,
   "id": "b5f86f42-9e28-471e-b13f-f768e041016e",
   "metadata": {},
   "outputs": [
    {
     "name": "stdout",
     "output_type": "stream",
     "text": [
      "[[0.4472136  0.4472136  0.4472136  0.         0.         0.4472136\n",
      "  0.         0.4472136 ]\n",
      " [0.         0.         0.         0.57735027 0.57735027 0.\n",
      "  0.57735027 0.        ]]\n"
     ]
    }
   ],
   "source": [
    "from sklearn.feature_extraction.text import TfidfVectorizer\n",
    "\n",
    "corpus=['Natural Language Processing is Fascinatiing','I love learning NLP']\n",
    "\n",
    "vectorizer= TfidfVectorizer()\n",
    "tfidf_matrix= vectorizer.fit_transform(corpus)\n",
    "print(tfidf_matrix.toarray())"
   ]
  },
  {
   "cell_type": "code",
   "execution_count": 117,
   "id": "1177518b-d721-44de-84b8-01455dd276fe",
   "metadata": {},
   "outputs": [
    {
     "name": "stdout",
     "output_type": "stream",
     "text": [
      "Original Data with Missing Values:\n",
      "            value\n",
      "2023-01-01    1.2\n",
      "2023-01-02    2.3\n",
      "2023-01-03    NaN\n",
      "2023-01-04    3.4\n",
      "2023-01-05    4.5\n",
      "2023-01-06    NaN\n",
      "2023-01-07    5.6\n",
      "2023-01-08    6.7\n",
      "2023-01-09    NaN\n",
      "2023-01-10    7.8\n",
      "\n",
      "Data after Forward Fill:\n",
      "            value\n",
      "2023-01-01    1.2\n",
      "2023-01-02    2.3\n",
      "2023-01-03    2.3\n",
      "2023-01-04    3.4\n",
      "2023-01-05    4.5\n",
      "2023-01-06    4.5\n",
      "2023-01-07    5.6\n",
      "2023-01-08    6.7\n",
      "2023-01-09    6.7\n",
      "2023-01-10    7.8\n",
      "\n",
      "Data after Backward Fill:\n",
      "            value\n",
      "2023-01-01    1.2\n",
      "2023-01-02    2.3\n",
      "2023-01-03    3.4\n",
      "2023-01-04    3.4\n",
      "2023-01-05    4.5\n",
      "2023-01-06    5.6\n",
      "2023-01-07    5.6\n",
      "2023-01-08    6.7\n",
      "2023-01-09    7.8\n",
      "2023-01-10    7.8\n",
      "\n",
      "Data after Interpolation:\n",
      "            value\n",
      "2023-01-01   1.20\n",
      "2023-01-02   2.30\n",
      "2023-01-03   2.85\n",
      "2023-01-04   3.40\n",
      "2023-01-05   4.50\n",
      "2023-01-06   5.05\n",
      "2023-01-07   5.60\n",
      "2023-01-08   6.70\n",
      "2023-01-09   7.25\n",
      "2023-01-10   7.80\n"
     ]
    },
    {
     "name": "stderr",
     "output_type": "stream",
     "text": [
      "C:\\Users\\A\\AppData\\Local\\Temp\\ipykernel_18152\\3087130432.py:14: FutureWarning: DataFrame.fillna with 'method' is deprecated and will raise in a future version. Use obj.ffill() or obj.bfill() instead.\n",
      "  data_ffill = dat.fillna(method='ffill')\n",
      "C:\\Users\\A\\AppData\\Local\\Temp\\ipykernel_18152\\3087130432.py:17: FutureWarning: DataFrame.fillna with 'method' is deprecated and will raise in a future version. Use obj.ffill() or obj.bfill() instead.\n",
      "  data_bfill = dat.fillna(method='bfill')\n"
     ]
    }
   ],
   "source": [
    "import pandas as pd\n",
    "import numpy as np\n",
    "\n",
    "# Create a date range\n",
    "data_range = pd.date_range(start='2023-01-01', periods=10, freq='D')\n",
    "\n",
    "# Create a DataFrame with missing values\n",
    "data = pd.DataFrame({'value': [1.2, 2.3, np.nan, 3.4, 4.5, np.nan, 5.6, 6.7, np.nan, 7.8]}, index=data_range)\n",
    "\n",
    "print('Original Data with Missing Values:')\n",
    "print(dat)\n",
    "\n",
    "# method 1: Forward Fill\n",
    "data_ffill = dat.fillna(method='ffill')\n",
    "\n",
    "# method 2: Backward Fill\n",
    "data_bfill = dat.fillna(method='bfill')\n",
    "\n",
    "# method 3: Interpolation\n",
    "data_interp = dat.interpolate()\n",
    "\n",
    "print('\\nData after Forward Fill:')\n",
    "print(data_ffill)\n",
    "\n",
    "print('\\nData after Backward Fill:')\n",
    "print(data_bfill)\n",
    "\n",
    "print('\\nData after Interpolation:')\n",
    "print(data_interp)\n"
   ]
  },
  {
   "cell_type": "code",
   "execution_count": 119,
   "id": "1bec1ea5-ac7b-4346-97b1-73585e896e03",
   "metadata": {},
   "outputs": [
    {
     "name": "stdout",
     "output_type": "stream",
     "text": [
      "\n",
      "Data Resampled to Monthly Frequency:\n",
      "            value\n",
      "2023-01-31   31.5\n",
      "\n",
      "Data Resampled to Weekly Frequency:\n",
      "            value\n",
      "2023-01-01    1.2\n",
      "2023-01-08    4.5\n",
      "2023-01-15    7.8\n"
     ]
    },
    {
     "name": "stderr",
     "output_type": "stream",
     "text": [
      "C:\\Users\\A\\AppData\\Local\\Temp\\ipykernel_18152\\2285809710.py:1: FutureWarning: 'M' is deprecated and will be removed in a future version, please use 'ME' instead.\n",
      "  data_monthly=data.resample('M').sum()\n"
     ]
    }
   ],
   "source": [
    "data_monthly=data.resample('M').sum()\n",
    "\n",
    "data_weekly=data.resample('W').mean()\n",
    "\n",
    "print(\"\\nData Resampled to Monthly Frequency:\")\n",
    "print(data_monthly)\n",
    "\n",
    "print(\"\\nData Resampled to Weekly Frequency:\")\n",
    "print(data_weekly)"
   ]
  },
  {
   "cell_type": "code",
   "execution_count": 121,
   "id": "1c5226e9-f12a-4ae6-a54f-e1fda3ad11c8",
   "metadata": {},
   "outputs": [
    {
     "name": "stdout",
     "output_type": "stream",
     "text": [
      "\n",
      "Data After rolling window smooth:\n",
      "               value\n",
      "2023-01-01       NaN\n",
      "2023-01-02       NaN\n",
      "2023-01-03  2.116667\n",
      "2023-01-04  2.850000\n",
      "2023-01-05  3.583333\n",
      "2023-01-06  4.316667\n",
      "2023-01-07  5.050000\n",
      "2023-01-08  5.783333\n",
      "2023-01-09  6.516667\n",
      "2023-01-10  7.250000\n"
     ]
    }
   ],
   "source": [
    "data_smooth=data.interpolate().rolling(window=3).mean()\n",
    "\n",
    "print(\"\\nData After rolling window smooth:\")\n",
    "print(data_smooth)"
   ]
  },
  {
   "cell_type": "code",
   "execution_count": 123,
   "id": "8501bef1-8b13-43eb-9763-f498ec56718f",
   "metadata": {},
   "outputs": [
    {
     "name": "stdout",
     "output_type": "stream",
     "text": [
      "p-value:0.9774016443222497\n"
     ]
    }
   ],
   "source": [
    "from statsmodels.tsa.stattools import adfuller\n",
    "adf_test=adfuller(data_interp['value'])\n",
    "\n",
    "print(f\"p-value:{adf_test[1]}\")"
   ]
  },
  {
   "cell_type": "code",
   "execution_count": null,
   "id": "79f60bc9-cb6a-42fe-b55d-b32dc6568cea",
   "metadata": {},
   "outputs": [],
   "source": [
    "data_diff=data_interp.diff()dropna()\n",
    "\n",
    "print(\"\\n Data After Differencing (Detrending)\")"
   ]
  },
  {
   "cell_type": "code",
   "execution_count": 127,
   "id": "d24960c5-193f-4378-8435-5acedc87892a",
   "metadata": {},
   "outputs": [
    {
     "name": "stdout",
     "output_type": "stream",
     "text": [
      "\n",
      " Standardized Data:\n",
      "[[-1.64822099]\n",
      " [-1.12497623]\n",
      " [-0.86335385]\n",
      " [-0.60173147]\n",
      " [-0.07848671]\n",
      " [ 0.18313567]\n",
      " [ 0.44475805]\n",
      " [ 0.96800281]\n",
      " [ 1.22962519]\n",
      " [ 1.49124757]]\n"
     ]
    }
   ],
   "source": [
    "from sklearn.preprocessing import StandardScaler\n",
    "\n",
    "scaler=StandardScaler()\n",
    "data_standardized=scaler.fit_transform(data_interp)\n",
    "\n",
    "print(\"\\n Standardized Data:\")\n",
    "print(data_standardized)"
   ]
  },
  {
   "cell_type": "code",
   "execution_count": 129,
   "id": "3fa70124-a81b-4827-a1ad-a5a7eb3e5b99",
   "metadata": {},
   "outputs": [
    {
     "data": {
      "image/png": "[encoded data removed]",
      "text/plain": [
       "<Figure size 640x480 with 4 Axes>"
      ]
     },
     "execution_count": 129,
     "metadata": {},
     "output_type": "execute_result"
    },
    {
     "data": {
      "image/png": "[encoded data removed]",
      "text/plain": [
       "<Figure size 640x480 with 4 Axes>"
      ]
     },
     "metadata": {},
     "output_type": "display_data"
    }
   ],
   "source": [
    "from statsmodels.tsa.seasonal import seasonal_decompose\n",
    "\n",
    "decomposition=seasonal_decompose(data_interp,model='additive',period=1)\n",
    "decomposition.plot()"
   ]
  },
  {
   "cell_type": "code",
   "execution_count": 131,
   "id": "b9fe60fa-c92b-44ee-b19c-8cfd3190c1bf",
   "metadata": {},
   "outputs": [
    {
     "name": "stdout",
     "output_type": "stream",
     "text": [
      "            value  lag_1\n",
      "2023-01-01    1.2    NaN\n",
      "2023-01-02    2.3    1.2\n",
      "2023-01-03    NaN    2.3\n",
      "2023-01-04    3.4    NaN\n",
      "2023-01-05    4.5    3.4\n",
      "2023-01-06    NaN    4.5\n",
      "2023-01-07    5.6    NaN\n",
      "2023-01-08    6.7    5.6\n",
      "2023-01-09    NaN    6.7\n",
      "2023-01-10    7.8    NaN\n"
     ]
    }
   ],
   "source": [
    "data['lag_1']=data['value'].shift(1)\n",
    "\n",
    "print(data)"
   ]
  },
  {
   "cell_type": "code",
   "execution_count": null,
   "id": "adc0227f-6ddb-4d95-b216-0f38a97deb2b",
   "metadata": {},
   "outputs": [],
   "source": []
  },
  {
   "cell_type": "code",
   "execution_count": null,
   "id": "5734d460-4d9b-433a-bb07-2478d9aa31d4",
   "metadata": {},
   "outputs": [],
   "source": []
  },
  {
   "cell_type": "code",
   "execution_count": null,
   "id": "a89928d5-4a8e-4121-9a91-76a74bf70d0b",
   "metadata": {},
   "outputs": [],
   "source": []
  }
 ],
 "metadata": {
  "kernelspec": {
   "display_name": "Python 3 (ipykernel)",
   "language": "python",
   "name": "python3"
  },
  "language_info": {
   "codemirror_mode": {
    "name": "ipython",
    "version": 3
   },
   "file_extension": ".py",
   "mimetype": "text/x-python",
   "name": "python",
   "nbconvert_exporter": "python",
   "pygments_lexer": "ipython3",
   "version": "3.12.4"
  }
 },
 "nbformat": 4,
 "nbformat_minor": 5
}
